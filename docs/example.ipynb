{
 "cells": [
  {
   "cell_type": "code",
   "execution_count": 6,
   "id": "289232ca-9473-46f0-ac5c-50b58ff82e00",
   "metadata": {},
   "outputs": [
    {
     "data": {
      "text/plain": [
       "T"
      ]
     },
     "execution_count": 6,
     "metadata": {},
     "output_type": "execute_result"
    },
    {
     "data": {
      "text/plain": [
       "T"
      ]
     },
     "execution_count": 6,
     "metadata": {},
     "output_type": "execute_result"
    },
    {
     "data": {
      "text/plain": [
       "T"
      ]
     },
     "execution_count": 6,
     "metadata": {},
     "output_type": "execute_result"
    }
   ],
   "source": [
    "(asdf:load-system :imago/jupyter)\n",
    "(asdf:load-system :array-operations)\n",
    "(asdf:load-system :cl-watershed)"
   ]
  },
  {
   "cell_type": "code",
   "execution_count": 7,
   "id": "e7b8a455-2c47-41a1-89d6-362eae95c33b",
   "metadata": {},
   "outputs": [
    {
     "data": {
      "text/plain": [
       "*IMAGE*"
      ]
     },
     "execution_count": 7,
     "metadata": {},
     "output_type": "execute_result"
    },
    {
     "data": {
      "image/jpeg": "[encoded data removed]"
     },
     "execution_count": 7,
     "metadata": {},
     "output_type": "execute_result"
    }
   ],
   "source": [
    ";; Read black&white image\n",
    "(defparameter *image* (imago:read-image \"~/.quicklisp/local-projects/cl-watershed/docs/disks.pbm\"))\n",
    "(imago-jupyter:show-image *image*)"
   ]
  },
  {
   "cell_type": "code",
   "execution_count": 8,
   "id": "e1c452af-e43d-4102-b2d0-6d13650c0e44",
   "metadata": {},
   "outputs": [
    {
     "data": {
      "text/plain": [
       "NIL"
      ]
     },
     "execution_count": 8,
     "metadata": {},
     "output_type": "execute_result"
    },
    {
     "data": {
      "text/plain": [
       "*EDT*"
      ]
     },
     "execution_count": 8,
     "metadata": {},
     "output_type": "execute_result"
    },
    {
     "data": {
      "text/plain": [
       "*EDT*"
      ]
     },
     "execution_count": 8,
     "metadata": {},
     "output_type": "execute_result"
    },
    {
     "data": {
      "text/plain": [
       "*SEEDS*"
      ]
     },
     "execution_count": 8,
     "metadata": {},
     "output_type": "execute_result"
    },
    {
     "data": {
      "text/plain": [
       "4"
      ]
     },
     "execution_count": 8,
     "metadata": {},
     "output_type": "execute_result"
    },
    {
     "data": {
      "text/plain": [
       "*SEGMENTS*"
      ]
     },
     "execution_count": 8,
     "metadata": {},
     "output_type": "execute_result"
    },
    {
     "data": {
      "text/plain": [
       "*COLORS*"
      ]
     },
     "execution_count": 8,
     "metadata": {},
     "output_type": "execute_result"
    },
    {
     "data": {
      "text/plain": [
       "*IMAGE-SEGM*"
      ]
     },
     "execution_count": 8,
     "metadata": {},
     "output_type": "execute_result"
    },
    {
     "data": {
      "image/jpeg": "[encoded data removed]"
     },
     "execution_count": 8,
     "metadata": {},
     "output_type": "execute_result"
    }
   ],
   "source": [
    ";; Invert the image\n",
    "(imago:do-image-pixels\n",
    "  (*image* color x y)\n",
    "  (setf color (- 1 color)))\n",
    "\n",
    ";; Calculate squared Euclidean distance transform\n",
    "(defparameter *edt* (imago:distance-transform *image* :type :edt))\n",
    "\n",
    ";; Negate the result\n",
    "(defparameter *edt* (aops:vectorize* 'single-float (*edt*) (- *edt*)))\n",
    "\n",
    ";; Create seeds\n",
    "(defparameter *seeds* (aops:zeros* 'fixnum (array-dimensions *edt*)))\n",
    "(setf (aref *seeds* 156 164) 1\n",
    "      (aref *seeds* 219 201) 2\n",
    "      (aref *seeds* 237 292) 3\n",
    "      (aref *seeds* 172 365) 4)\n",
    "\n",
    ";; Calculate segmentation\n",
    "(defparameter *segments* (cl-watershed:watershed\n",
    "                           *edt* *seeds*\n",
    "                           (let ((pixels (imago:image-pixels *image*)))\n",
    "                             (aops:vectorize* 'boolean (pixels) (zerop pixels)))))\n",
    "\n",
    ";; Get random colors for segments and black for no label\n",
    "(defparameter *colors*\n",
    "  (cons (imago:make-color 0 0 0)\n",
    "        (loop repeat 4 collect\n",
    "              (imago:make-color (random 256)\n",
    "                                (random 256)\n",
    "                                (random 256)))))\n",
    ";; Create segmnted image\n",
    "(defparameter *image-segm*\n",
    "  (make-instance 'imago:rgb-image\n",
    "                 :pixels (aops:vectorize* 'imago:rgb-pixel (*segments*)\n",
    "                                          (nth *segments* *colors*))))\n",
    "(imago-jupyter:show-image *image-segm*)"
   ]
  },
  {
   "cell_type": "code",
   "execution_count": null,
   "id": "449c83c2-ee4f-4012-848c-aedf4b624285",
   "metadata": {},
   "outputs": [],
   "source": []
  }
 ],
 "metadata": {
  "kernelspec": {
   "display_name": "Common Lisp",
   "language": "common-lisp",
   "name": "common-lisp"
  },
  "language_info": {
   "codemirror_mode": "text/x-common-lisp",
   "file_extension": ".lisp",
   "mimetype": "text/x-common-lisp",
   "name": "common-lisp",
   "pygments_lexer": "common-lisp",
   "version": "2.2.1"
  }
 },
 "nbformat": 4,
 "nbformat_minor": 5
}
